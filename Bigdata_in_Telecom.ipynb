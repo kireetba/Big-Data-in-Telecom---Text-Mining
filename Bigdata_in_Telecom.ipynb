{
 "cells": [
  {
   "cell_type": "markdown",
   "metadata": {},
   "source": [
    "# Big-Data in Telecom\n",
    "\n",
    "Authors: Suganth, Kireet, Vamsi, Bhagyashree\n",
    "\n",
    "This notebook makes use of the Pyspark library to explore, preprocess and classify the tweets into various categories and also predict the category.\n",
    "\n",
    "Dataset: Extracted Verizon tweets from Twitter using text search API.\n"
   ]
  },
  {
   "cell_type": "code",
   "execution_count": null,
   "metadata": {
    "collapsed": true
   },
   "outputs": [],
   "source": [
    "from pyspark import SparkConf,SparkContext\n",
    "from pyspark import mllib as ml\n",
    "from pyspark.ml.feature import Tokenizer,HashingTF,IDF,StopWordsRemover,CountVectorizer\n",
    "from pyspark.sql import SparkSession,SQLContext,Row\n",
    "from pyspark.sql.functions import lower,regexp_replace,trim\n",
    "from textblob import TextBlob\n",
    "import string\n",
    "import re\n",
    "from pyspark.sql.functions import udf\n",
    "from pyspark.sql.types import StringType,ArrayType\n",
    "import matplotlib.pyplot as plt\n",
    "%matplotlib inline  \n",
    "import pandas as pd"
   ]
  },
  {
   "cell_type": "code",
   "execution_count": null,
   "metadata": {},
   "outputs": [],
   "source": [
    "#Configuring the Spark system, Master = local system.\n",
    "conf = SparkConf().setMaster(\"local\").setAppName(\"Project\")\n",
    "sc = SparkContext(conf=conf)"
   ]
  },
  {
   "cell_type": "code",
   "execution_count": 93,
   "metadata": {
    "collapsed": true
   },
   "outputs": [],
   "source": [
    "#Applying SQLContext to the Spark Context.\n",
    "sqlcontext = SQLContext(sc)"
   ]
  },
  {
   "cell_type": "code",
   "execution_count": 94,
   "metadata": {
    "collapsed": true
   },
   "outputs": [],
   "source": [
    "#Starting a Spark Session\n",
    "spark = SparkSession(sqlcontext)"
   ]
  },
  {
   "cell_type": "code",
   "execution_count": 95,
   "metadata": {
    "collapsed": true
   },
   "outputs": [],
   "source": [
    "#Reading the twitter data file for verizon\n",
    "tweets = spark.read.csv(\"hdfs://quickstart.cloudera:8020/user/cloudera/final_tweets.csv\",header=True)"
   ]
  },
  {
   "cell_type": "markdown",
   "metadata": {},
   "source": [
    "# Data Cleaning and Preprocessing"
   ]
  },
  {
   "cell_type": "code",
   "execution_count": 96,
   "metadata": {
    "collapsed": true
   },
   "outputs": [],
   "source": [
    "## converting the tweets to lowercase\n",
    "verizon_tweets=tweets.withColumn('Text',lower(tweets['Text']))"
   ]
  },
  {
   "cell_type": "code",
   "execution_count": 97,
   "metadata": {
    "collapsed": true
   },
   "outputs": [],
   "source": [
    "#remove puntuations\n",
    "def punc(tweets):\n",
    "    tweet = re.sub('[!\"#$%&\\'()*+,-./:;<=>?@[\\\\]^_`{|}~]', '',tweets)\n",
    "    return tweet\n",
    "udf_func = udf(punc)"
   ]
  },
  {
   "cell_type": "code",
   "execution_count": 98,
   "metadata": {
    "collapsed": true
   },
   "outputs": [],
   "source": [
    "## Removing the punctuations using user defined functions\n",
    "verizon_tweets = verizon_tweets.withColumn('Text',udf_func(verizon_tweets['Text']))"
   ]
  },
  {
   "cell_type": "code",
   "execution_count": 99,
   "metadata": {},
   "outputs": [
    {
     "name": "stdout",
     "output_type": "stream",
     "text": [
      "+---+------------+-----+--------------------+\n",
      "|_c0|    Category|Label|                Text|\n",
      "+---+------------+-----+--------------------+\n",
      "|  0|Poor service|    4|vzwsupport give m...|\n",
      "|  1|Poor service|    4|verizon my daught...|\n",
      "+---+------------+-----+--------------------+\n",
      "only showing top 2 rows\n",
      "\n"
     ]
    }
   ],
   "source": [
    "verizon_tweets.show(2)"
   ]
  },
  {
   "cell_type": "code",
   "execution_count": 100,
   "metadata": {
    "collapsed": true
   },
   "outputs": [],
   "source": [
    "#Word Tokenization\n",
    "tokenizer = Tokenizer(inputCol='Text',outputCol='words')\n",
    "verizon_tweets = tokenizer.transform(verizon_tweets)"
   ]
  },
  {
   "cell_type": "code",
   "execution_count": 101,
   "metadata": {
    "collapsed": true
   },
   "outputs": [],
   "source": [
    "#Removing the stop words\n",
    "stopremover= StopWordsRemover(inputCol='words',outputCol='words_nostopwords')\n",
    "verizon_tweets = stopremover.transform(verizon_tweets)"
   ]
  },
  {
   "cell_type": "code",
   "execution_count": 102,
   "metadata": {},
   "outputs": [
    {
     "name": "stdout",
     "output_type": "stream",
     "text": [
      "+---+------------+-----+--------------------+--------------------+--------------------+\n",
      "|_c0|    Category|Label|                Text|               words|   words_nostopwords|\n",
      "+---+------------+-----+--------------------+--------------------+--------------------+\n",
      "|  0|Poor service|    4|vzwsupport give m...|[vzwsupport, give...|[vzwsupport, give...|\n",
      "|  1|Poor service|    4|verizon my daught...|[verizon, my, dau...|[verizon, daughte...|\n",
      "|  2|Poor service|    4|verizon  customer...|[verizon, , custo...|[verizon, , custo...|\n",
      "+---+------------+-----+--------------------+--------------------+--------------------+\n",
      "only showing top 3 rows\n",
      "\n"
     ]
    }
   ],
   "source": [
    "verizon_tweets.show(3)"
   ]
  },
  {
   "cell_type": "code",
   "execution_count": 103,
   "metadata": {
    "collapsed": true
   },
   "outputs": [],
   "source": [
    "#Lemmatization\n",
    "from nltk.stem import PorterStemmer,WordNetLemmatizer\n",
    "lemmatizer = WordNetLemmatizer()"
   ]
  },
  {
   "cell_type": "code",
   "execution_count": 104,
   "metadata": {
    "collapsed": true
   },
   "outputs": [],
   "source": [
    "#Bringing back the words to its root form.\n",
    "def lemmas(words):\n",
    "    for w in range(0,len(words)):\n",
    "        words[w] = lemmatizer.lemmatize(words[w],pos='v')\n",
    "        words[w] = lemmatizer.lemmatize(words[w],pos='a')\n",
    "    return words\n",
    "\n",
    "my_func1 = udf(lemmas,ArrayType(StringType()))"
   ]
  },
  {
   "cell_type": "code",
   "execution_count": 105,
   "metadata": {},
   "outputs": [],
   "source": [
    "verizon_tweets = verizon_tweets.withColumn('words_nostopwords',my_func1(verizon_tweets['words_nostopwords']))"
   ]
  },
  {
   "cell_type": "markdown",
   "metadata": {},
   "source": [
    "# Data Exploration"
   ]
  },
  {
   "cell_type": "code",
   "execution_count": 106,
   "metadata": {
    "collapsed": true
   },
   "outputs": [],
   "source": [
    "df1 = verizon_tweets.toPandas()"
   ]
  },
  {
   "cell_type": "code",
   "execution_count": 107,
   "metadata": {},
   "outputs": [
    {
     "data": {
      "text/plain": [
       "<matplotlib.axes._subplots.AxesSubplot at 0x7f4e9444d150>"
      ]
     },
     "execution_count": 107,
     "metadata": {},
     "output_type": "execute_result"
    },
    {
     "data": {
      "image/png": "[encoded data removed]",
      "text/plain": [
       "<matplotlib.figure.Figure at 0x7f4e90d2a890>"
      ]
     },
     "metadata": {},
     "output_type": "display_data"
    }
   ],
   "source": [
    "df1['Category'].value_counts().plot('bar')"
   ]
  },
  {
   "cell_type": "code",
   "execution_count": 108,
   "metadata": {
    "collapsed": true
   },
   "outputs": [],
   "source": [
    "df2 = verizon_tweets.groupBy('Category').count().toPandas()"
   ]
  },
  {
   "cell_type": "code",
   "execution_count": 109,
   "metadata": {},
   "outputs": [
    {
     "data": {
      "image/png": "[encoded data removed]",
      "text/plain": [
       "<matplotlib.figure.Figure at 0x7f4e90ea1610>"
      ]
     },
     "metadata": {},
     "output_type": "display_data"
    }
   ],
   "source": [
    "#Pie chart to show the split of the tweet categories for verizon\n",
    "plt.pie(df2['count'], labels=df2['Category'], autopct='%1.1f%%', shadow=True, startangle=120)\n",
    "plt.rcParams['figure.figsize'] = 6,5\n",
    "plt.show()"
   ]
  },
  {
   "cell_type": "code",
   "execution_count": 110,
   "metadata": {},
   "outputs": [],
   "source": [
    "#Word Cloud\n",
    "import wordcloud\n",
    "from wordcloud import WordCloud, STOPWORDS"
   ]
  },
  {
   "cell_type": "code",
   "execution_count": 111,
   "metadata": {
    "collapsed": true
   },
   "outputs": [],
   "source": [
    "replace = ['Verizon','call','tell','verizon','vzwsupport','phone','tmobile','go']"
   ]
  },
  {
   "cell_type": "code",
   "execution_count": 112,
   "metadata": {},
   "outputs": [],
   "source": [
    "df1['words_nostopwords']= df1['words_nostopwords'].apply(lambda x: [item for item in x if item not in replace])"
   ]
  },
  {
   "cell_type": "code",
   "execution_count": 113,
   "metadata": {},
   "outputs": [
    {
     "data": {
      "text/html": [
       "<div>\n",
       "<table border=\"1\" class=\"dataframe\">\n",
       "  <thead>\n",
       "    <tr style=\"text-align: right;\">\n",
       "      <th></th>\n",
       "      <th>_c0</th>\n",
       "      <th>Category</th>\n",
       "      <th>Label</th>\n",
       "      <th>Text</th>\n",
       "      <th>words</th>\n",
       "      <th>words_nostopwords</th>\n",
       "    </tr>\n",
       "  </thead>\n",
       "  <tbody>\n",
       "    <tr>\n",
       "      <th>0</th>\n",
       "      <td>0</td>\n",
       "      <td>Poor service</td>\n",
       "      <td>4</td>\n",
       "      <td>vzwsupport give me a working phone without hav...</td>\n",
       "      <td>[vzwsupport, give, me, a, working, phone, with...</td>\n",
       "      <td>[give, work, without, jump, hurdle, customer, ...</td>\n",
       "    </tr>\n",
       "    <tr>\n",
       "      <th>1</th>\n",
       "      <td>1</td>\n",
       "      <td>Poor service</td>\n",
       "      <td>4</td>\n",
       "      <td>verizon my daughter and i both have verizon an...</td>\n",
       "      <td>[verizon, my, daughter, and, i, both, have, ve...</td>\n",
       "      <td>[daughter, keep, fail, talk, , suggestions, ri...</td>\n",
       "    </tr>\n",
       "    <tr>\n",
       "      <th>2</th>\n",
       "      <td>2</td>\n",
       "      <td>Poor service</td>\n",
       "      <td>4</td>\n",
       "      <td>verizon  customer service is the worst i dread...</td>\n",
       "      <td>[verizon, , customer, service, is, the, worst,...</td>\n",
       "      <td>[, customer, service, bad, dread, ever, contac...</td>\n",
       "    </tr>\n",
       "    <tr>\n",
       "      <th>3</th>\n",
       "      <td>3</td>\n",
       "      <td>Happy Customer</td>\n",
       "      <td>2</td>\n",
       "      <td>i love having verizon i get service just about...</td>\n",
       "      <td>[i, love, having, verizon, i, get, service, ju...</td>\n",
       "      <td>[love, get, service, anywhere, vzwnow]</td>\n",
       "    </tr>\n",
       "  </tbody>\n",
       "</table>\n",
       "</div>"
      ],
      "text/plain": [
       "  _c0        Category Label  \\\n",
       "0   0    Poor service     4   \n",
       "1   1    Poor service     4   \n",
       "2   2    Poor service     4   \n",
       "3   3  Happy Customer     2   \n",
       "\n",
       "                                                Text  \\\n",
       "0  vzwsupport give me a working phone without hav...   \n",
       "1  verizon my daughter and i both have verizon an...   \n",
       "2  verizon  customer service is the worst i dread...   \n",
       "3  i love having verizon i get service just about...   \n",
       "\n",
       "                                               words  \\\n",
       "0  [vzwsupport, give, me, a, working, phone, with...   \n",
       "1  [verizon, my, daughter, and, i, both, have, ve...   \n",
       "2  [verizon, , customer, service, is, the, worst,...   \n",
       "3  [i, love, having, verizon, i, get, service, ju...   \n",
       "\n",
       "                                   words_nostopwords  \n",
       "0  [give, work, without, jump, hurdle, customer, ...  \n",
       "1  [daughter, keep, fail, talk, , suggestions, ri...  \n",
       "2  [, customer, service, bad, dread, ever, contac...  \n",
       "3             [love, get, service, anywhere, vzwnow]  "
      ]
     },
     "execution_count": 113,
     "metadata": {},
     "output_type": "execute_result"
    }
   ],
   "source": [
    "df1.head(4)"
   ]
  },
  {
   "cell_type": "code",
   "execution_count": 114,
   "metadata": {
    "collapsed": true
   },
   "outputs": [],
   "source": [
    "df1['words_nostopwords']=df1['words_nostopwords'].apply(', '.join)"
   ]
  },
  {
   "cell_type": "code",
   "execution_count": 115,
   "metadata": {},
   "outputs": [],
   "source": [
    "wordcloud = WordCloud(stopwords=STOPWORDS,width=7000, height=7000\n",
    "                    ).generate(' '.join(df1['words_nostopwords']))"
   ]
  },
  {
   "cell_type": "code",
   "execution_count": 116,
   "metadata": {},
   "outputs": [
    {
     "data": {
      "image/png": "[encoded data removed]",
      "text/plain": [
       "<matplotlib.figure.Figure at 0x7f4e87e4c2d0>"
      ]
     },
     "metadata": {},
     "output_type": "display_data"
    }
   ],
   "source": [
    "plt.figure(figsize=(10,8))\n",
    "plt.imshow(wordcloud)\n",
    "plt.axis(\"off\")\n",
    "plt.show()"
   ]
  },
  {
   "cell_type": "markdown",
   "metadata": {},
   "source": [
    "# Overall Sentiments of the tweets"
   ]
  },
  {
   "cell_type": "code",
   "execution_count": 117,
   "metadata": {
    "collapsed": true
   },
   "outputs": [],
   "source": [
    "#Sentiment analysis \n",
    "def sentiment_analysis(text):\n",
    "    temp = TextBlob(text)\n",
    "    if(temp.sentiment.polarity > 0):\n",
    "        return \"positive\"\n",
    "    elif(temp.sentiment.polarity < 0):\n",
    "        return \"negative\"\n",
    "    else:\n",
    "        return \"neutral\""
   ]
  },
  {
   "cell_type": "code",
   "execution_count": 118,
   "metadata": {
    "collapsed": true
   },
   "outputs": [],
   "source": [
    "Blob_udf = udf(sentiment_analysis)\n",
    "verizon_tweets = verizon_tweets.withColumn('sentiment_polarity',Blob_udf(verizon_tweets['Text']))"
   ]
  },
  {
   "cell_type": "code",
   "execution_count": 119,
   "metadata": {
    "collapsed": true
   },
   "outputs": [],
   "source": [
    "df1 = verizon_tweets.toPandas()"
   ]
  },
  {
   "cell_type": "code",
   "execution_count": 120,
   "metadata": {},
   "outputs": [
    {
     "data": {
      "text/plain": [
       "<matplotlib.axes._subplots.AxesSubplot at 0x7f4e7d5bc6d0>"
      ]
     },
     "execution_count": 120,
     "metadata": {},
     "output_type": "execute_result"
    },
    {
     "data": {
      "image/png": "[encoded data removed]",
      "text/plain": [
       "<matplotlib.figure.Figure at 0x7f4e9173a390>"
      ]
     },
     "metadata": {},
     "output_type": "display_data"
    }
   ],
   "source": [
    "df1['sentiment_polarity'].value_counts().plot('bar')"
   ]
  },
  {
   "cell_type": "markdown",
   "metadata": {
    "collapsed": true
   },
   "source": [
    "# Term-Frequency and Inverse Document Frequency"
   ]
  },
  {
   "cell_type": "code",
   "execution_count": 121,
   "metadata": {
    "collapsed": true
   },
   "outputs": [],
   "source": [
    "## TF-IDF\n",
    "hashingTF = HashingTF(inputCol=\"words_nostopwords\", outputCol=\"rawFeatures\", numFeatures=11000)\n",
    "featurizedData = hashingTF.transform(verizon_tweets)\n"
   ]
  },
  {
   "cell_type": "code",
   "execution_count": 122,
   "metadata": {
    "collapsed": true
   },
   "outputs": [],
   "source": [
    "idf = IDF(inputCol=\"rawFeatures\", outputCol=\"features\")"
   ]
  },
  {
   "cell_type": "code",
   "execution_count": 123,
   "metadata": {
    "collapsed": true
   },
   "outputs": [],
   "source": [
    "idfmodel = idf.fit(featurizedData)"
   ]
  },
  {
   "cell_type": "code",
   "execution_count": 124,
   "metadata": {
    "collapsed": true
   },
   "outputs": [],
   "source": [
    "rescaled_data = idfmodel.transform(featurizedData)"
   ]
  },
  {
   "cell_type": "markdown",
   "metadata": {},
   "source": [
    "# Model Building and Prediction"
   ]
  },
  {
   "cell_type": "code",
   "execution_count": 125,
   "metadata": {
    "collapsed": true
   },
   "outputs": [],
   "source": [
    "#classifier\n",
    "from pyspark.ml.classification import RandomForestClassifier\n",
    "from pyspark.ml.feature import StringIndexer,VectorIndexer,VectorAssembler\n",
    "from pyspark.ml.linalg import Vectors\n",
    "from pyspark.sql.types import DoubleType,ArrayType,StringType"
   ]
  },
  {
   "cell_type": "code",
   "execution_count": 126,
   "metadata": {
    "collapsed": true
   },
   "outputs": [],
   "source": [
    "rescaled_data= rescaled_data.withColumn('label',rescaled_data['label'].cast(DoubleType()))"
   ]
  },
  {
   "cell_type": "code",
   "execution_count": 127,
   "metadata": {
    "collapsed": true
   },
   "outputs": [],
   "source": [
    "final_data= rescaled_data.select('label','features')"
   ]
  },
  {
   "cell_type": "code",
   "execution_count": 128,
   "metadata": {
    "collapsed": true
   },
   "outputs": [],
   "source": [
    "rf = RandomForestClassifier(featuresCol=\"features\",labelCol=\"label\")"
   ]
  },
  {
   "cell_type": "code",
   "execution_count": 129,
   "metadata": {},
   "outputs": [
    {
     "data": {
      "text/plain": [
       "[('label', 'double'), ('features', 'vector')]"
      ]
     },
     "execution_count": 129,
     "metadata": {},
     "output_type": "execute_result"
    }
   ],
   "source": [
    "final_data.dtypes"
   ]
  },
  {
   "cell_type": "code",
   "execution_count": 142,
   "metadata": {
    "collapsed": true
   },
   "outputs": [],
   "source": [
    "## Training and test split\n",
    "(trainingData, testData) = final_data.randomSplit([0.7, 0.3])"
   ]
  },
  {
   "cell_type": "code",
   "execution_count": 143,
   "metadata": {
    "collapsed": true
   },
   "outputs": [],
   "source": [
    "## Fit the model on the training data\n",
    "model = rf.fit(trainingData)"
   ]
  },
  {
   "cell_type": "code",
   "execution_count": 144,
   "metadata": {
    "collapsed": true
   },
   "outputs": [],
   "source": [
    "pred = model.transform(testData)"
   ]
  },
  {
   "cell_type": "code",
   "execution_count": 145,
   "metadata": {},
   "outputs": [
    {
     "name": "stdout",
     "output_type": "stream",
     "text": [
      "+-----+--------------------+--------------------+--------------------+----------+\n",
      "|label|            features|       rawPrediction|         probability|prediction|\n",
      "+-----+--------------------+--------------------+--------------------+----------+\n",
      "|  1.0|(11000,[111,1516,...|[0.0,1.9654302924...|[0.0,0.0982715146...|       4.0|\n",
      "|  1.0|(11000,[139,157,1...|[0.0,1.9654302924...|[0.0,0.0982715146...|       4.0|\n",
      "|  1.0|(11000,[139,157,1...|[0.0,1.9654302924...|[0.0,0.0982715146...|       4.0|\n",
      "|  1.0|(11000,[139,157,1...|[0.0,1.9654302924...|[0.0,0.0982715146...|       4.0|\n",
      "|  1.0|(11000,[222,520,8...|[0.0,2.4916510573...|[0.0,0.1245825528...|       4.0|\n",
      "+-----+--------------------+--------------------+--------------------+----------+\n",
      "only showing top 5 rows\n",
      "\n"
     ]
    }
   ],
   "source": [
    "pred.show(5)"
   ]
  },
  {
   "cell_type": "markdown",
   "metadata": {},
   "source": [
    "# Accuracy of the model "
   ]
  },
  {
   "cell_type": "code",
   "execution_count": 149,
   "metadata": {
    "collapsed": true
   },
   "outputs": [],
   "source": [
    "from pyspark.ml.evaluation import MulticlassClassificationEvaluator"
   ]
  },
  {
   "cell_type": "code",
   "execution_count": 148,
   "metadata": {},
   "outputs": [
    {
     "name": "stdout",
     "output_type": "stream",
     "text": [
      "Test Accuracy = 55.814\n"
     ]
    }
   ],
   "source": [
    "evaluator = MulticlassClassificationEvaluator(\n",
    "    labelCol=\"label\", predictionCol=\"prediction\", metricName=\"accuracy\")\n",
    "accuracy = evaluator.evaluate(pred)\n",
    "print(\"Test Accuracy = %g\" % (accuracy*100))"
   ]
  },
  {
   "cell_type": "code",
   "execution_count": null,
   "metadata": {
    "collapsed": true
   },
   "outputs": [],
   "source": []
  }
 ],
 "metadata": {
  "kernelspec": {
   "display_name": "Python 3",
   "language": "python",
   "name": "python3"
  },
  "language_info": {
   "codemirror_mode": {
    "name": "ipython",
    "version": 3
   },
   "file_extension": ".py",
   "mimetype": "text/x-python",
   "name": "python",
   "nbconvert_exporter": "python",
   "pygments_lexer": "ipython3",
   "version": "3.6.4"
  }
 },
 "nbformat": 4,
 "nbformat_minor": 2
}
